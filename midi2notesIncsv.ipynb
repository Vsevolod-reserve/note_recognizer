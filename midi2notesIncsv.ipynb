{
 "cells": [
  {
   "cell_type": "code",
   "execution_count": null,
   "metadata": {
    "collapsed": true
   },
   "outputs": [],
   "source": [
    "import midi"
   ]
  },
  {
   "cell_type": "code",
   "execution_count": null,
   "metadata": {
    "collapsed": true
   },
   "outputs": [],
   "source": [
    "pattern = midi.read_midifile(\"name.mid\")"
   ]
  },
  {
   "cell_type": "code",
   "execution_count": null,
   "metadata": {
    "collapsed": true
   },
   "outputs": [],
   "source": [
    "!pwd"
   ]
  },
  {
   "cell_type": "code",
   "execution_count": null,
   "metadata": {
    "collapsed": true
   },
   "outputs": [],
   "source": [
    "    for track in pattern:\n",
    "    print(len(track))\n",
    "    \n",
    "    \n",
    "    "
   ]
  },
  {
   "cell_type": "code",
   "execution_count": null,
   "metadata": {
    "collapsed": true
   },
   "outputs": [],
   "source": [
    "track = pattern[3]"
   ]
  },
  {
   "cell_type": "code",
   "execution_count": null,
   "metadata": {
    "collapsed": true
   },
   "outputs": [],
   "source": [
    "nn = track[10]"
   ]
  },
  {
   "cell_type": "code",
   "execution_count": null,
   "metadata": {
    "collapsed": true
   },
   "outputs": [],
   "source": [
    "nn.get_pitch() # note id\n",
    "nn.data[1] == 110 # is start\n",
    "nn.data[1] == 0 # is end"
   ]
  },
  {
   "cell_type": "code",
   "execution_count": null,
   "metadata": {
    "collapsed": true
   },
   "outputs": [],
   "source": [
    "track."
   ]
  },
  {
   "cell_type": "code",
   "execution_count": null,
   "metadata": {
    "collapsed": true
   },
   "outputs": [],
   "source": [
    "notes = [note.pitch for note in track if isinstance(note, midi.NoteOnEvent)]"
   ]
  },
  {
   "cell_type": "code",
   "execution_count": null,
   "metadata": {
    "collapsed": true
   },
   "outputs": [],
   "source": [
    "notes"
   ]
  },
  {
   "cell_type": "code",
   "execution_count": null,
   "metadata": {
    "collapsed": true
   },
   "outputs": [],
   "source": [
    "nn.tick"
   ]
  },
  {
   "cell_type": "code",
   "execution_count": null,
   "metadata": {
    "collapsed": true
   },
   "outputs": [],
   "source": []
  },
  {
   "cell_type": "code",
   "execution_count": null,
   "metadata": {
    "collapsed": true
   },
   "outputs": [],
   "source": [
    "noteArr=[]\n",
    "for track in pattern:\n",
    "    time=0\n",
    "    for note in track:\n",
    "        if(isinstance(note,midi.NoteOnEvent)):\n",
    "            time=time+note.tick\n",
    "            noteArr.append([note.get_pitch(),note.data[1]>0,time])\n",
    "        if(isinstance(note,midi.NoteOffEvent)):\n",
    "            noteArr.append([note.get_pitch(),0,time])\n",
    "            #noteArr.append()"
   ]
  },
  {
   "cell_type": "code",
   "execution_count": null,
   "metadata": {
    "collapsed": true
   },
   "outputs": [],
   "source": [
    "maxLen=0\n",
    "for noteEvent in noteArr:\n",
    "    maxLen=max(maxLen,noteEvent[2])"
   ]
  },
  {
   "cell_type": "code",
   "execution_count": null,
   "metadata": {
    "collapsed": true
   },
   "outputs": [],
   "source": [
    "!pip install python-midi"
   ]
  },
  {
   "cell_type": "code",
   "execution_count": 1,
   "metadata": {
    "collapsed": true
   },
   "outputs": [],
   "source": [
    "import os\n",
    "import midi\n",
    "import pandas as pd\n",
    "\n",
    "exceptions=[]\n",
    "\n",
    "try:\n",
    "    os.mkdir(\"csvs\")\n",
    "except:\n",
    "    pass\n",
    "\n",
    "for path, subdirs, files in os.walk(\"./130000_Pop_Rock_Classical_Videogame_EDM_MIDI_Archive[6_19_15]/\"):\n",
    "    for midifile in files:\n",
    "        try:\n",
    "            pattern = midi.read_midifile(path+midifile)\n",
    "            noteArr=[]\n",
    "            for track in pattern:\n",
    "                time=0\n",
    "                for note in track:\n",
    "                    if(isinstance(note,midi.NoteOnEvent)):\n",
    "                        time=time+note.tick\n",
    "                        noteArr.append([note.get_pitch(),note.data[1]>0,time])\n",
    "                    if(isinstance(note,midi.NoteOffEvent)):\n",
    "                        noteArr.append([note.get_pitch(),0,time])\n",
    "            notesDF = pd.DataFrame(noteArr, columns = ['pitch', 'type', 'tick'])\n",
    "            notesDF.to_csv(\"csvs/\"+midifile+\".csv\")\n",
    "        except Exception as e:\n",
    "            exceptions.append(e)"
   ]
  },
  {
   "cell_type": "code",
   "execution_count": null,
   "metadata": {
    "collapsed": true
   },
   "outputs": [],
   "source": [
    "for path, subdirs, local_files in os.walk(\"./ololo/\"):\n",
    "    print(path, subdirs, local_files)"
   ]
  },
  {
   "cell_type": "code",
   "execution_count": null,
   "metadata": {
    "collapsed": true
   },
   "outputs": [],
   "source": [
    "import pandas as pd\n",
    "\n",
    "notesDF = pd.DataFrame(noteArr, columns = ['pitch', 'type', 'tick'])"
   ]
  },
  {
   "cell_type": "code",
   "execution_count": null,
   "metadata": {
    "collapsed": true
   },
   "outputs": [],
   "source": [
    "notesDF.to_csv(\"mid.csv\")"
   ]
  },
  {
   "cell_type": "code",
   "execution_count": null,
   "metadata": {
    "collapsed": true
   },
   "outputs": [],
   "source": [
    "\n",
    "\"\"\"for i in noteArr:\n",
    "    notesInTime[i[2]][i[0]]=1\"\"\""
   ]
  },
  {
   "cell_type": "code",
   "execution_count": null,
   "metadata": {
    "collapsed": true
   },
   "outputs": [],
   "source": [
    "notesInTime"
   ]
  },
  {
   "cell_type": "code",
   "execution_count": null,
   "metadata": {
    "collapsed": true
   },
   "outputs": [],
   "source": [
    "time=0\n",
    "for note in pattern[7]:\n",
    "    if(isinstance(note,midi.NoteOnEvent)):\n",
    "        time=time+note.tick\n",
    "        print([note.get_pitch(),note.data[1],time])\n",
    "    if(isinstance(note,midi.NoteOffEvent)):\n",
    "        noteArr.append([note.get_pitch(),0,time])"
   ]
  }
 ],
 "metadata": {
  "kernelspec": {
   "display_name": "Python 2",
   "language": "python",
   "name": "python2"
  },
  "language_info": {
   "codemirror_mode": {
    "name": "ipython",
    "version": 2
   },
   "file_extension": ".py",
   "mimetype": "text/x-python",
   "name": "python",
   "nbconvert_exporter": "python",
   "pygments_lexer": "ipython2",
   "version": "2.7.13"
  }
 },
 "nbformat": 4,
 "nbformat_minor": 2
}
